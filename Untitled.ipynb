{
 "cells": [
  {
   "cell_type": "code",
   "execution_count": 59,
   "id": "3d7b8d6e-357a-485a-b9b4-fa4c3c435002",
   "metadata": {},
   "outputs": [],
   "source": [
    "f1=70\n",
    "\n",
    "f2=68"
   ]
  },
  {
   "cell_type": "code",
   "execution_count": 64,
   "id": "bbaf463c-d27b-45a7-9e93-a788e619ea46",
   "metadata": {},
   "outputs": [
    {
     "data": {
      "text/plain": [
       "138"
      ]
     },
     "execution_count": 64,
     "metadata": {},
     "output_type": "execute_result"
    }
   ],
   "source": [
    "f1+f2"
   ]
  },
  {
   "cell_type": "code",
   "execution_count": 65,
   "id": "ffd06ffa-3744-4036-a7f6-c39e82d26992",
   "metadata": {},
   "outputs": [
    {
     "data": {
      "text/plain": [
       "69.0"
      ]
     },
     "execution_count": 65,
     "metadata": {},
     "output_type": "execute_result"
    }
   ],
   "source": [
    "138/2"
   ]
  },
  {
   "cell_type": "code",
   "execution_count": 66,
   "id": "903c41ab-94f0-49f7-af82-4eb0e9f53d56",
   "metadata": {},
   "outputs": [],
   "source": [
    "#\"felsefe puanı\""
   ]
  },
  {
   "cell_type": "code",
   "execution_count": 67,
   "id": "b0a9e3d4-158d-4e52-bc98-ebd40b460941",
   "metadata": {},
   "outputs": [],
   "source": [
    "a1=78\n",
    "\n",
    "a2=55"
   ]
  },
  {
   "cell_type": "code",
   "execution_count": 69,
   "id": "0d4e9ff4-1c0d-4caa-a1ee-c14ae786424c",
   "metadata": {},
   "outputs": [
    {
     "data": {
      "text/plain": [
       "133"
      ]
     },
     "execution_count": 69,
     "metadata": {},
     "output_type": "execute_result"
    }
   ],
   "source": [
    "a1+a2"
   ]
  },
  {
   "cell_type": "code",
   "execution_count": 70,
   "id": "0bdc6fe4-8033-4199-a8c7-c797f7faf072",
   "metadata": {},
   "outputs": [
    {
     "data": {
      "text/plain": [
       "66.5"
      ]
     },
     "execution_count": 70,
     "metadata": {},
     "output_type": "execute_result"
    }
   ],
   "source": [
    "133/2"
   ]
  },
  {
   "cell_type": "code",
   "execution_count": 71,
   "id": "770258c6-1c4a-4ce6-ae0a-e90165a45b7d",
   "metadata": {},
   "outputs": [],
   "source": [
    "#\"almanca puanı\""
   ]
  },
  {
   "cell_type": "code",
   "execution_count": 72,
   "id": "4db4f780-bba1-48a9-a8b5-ff0eeb60ea83",
   "metadata": {},
   "outputs": [],
   "source": [
    "t1=80\n",
    "\n",
    "t2=64"
   ]
  },
  {
   "cell_type": "code",
   "execution_count": 74,
   "id": "9f9f8ceb-037c-426f-b61e-d32458aa1710",
   "metadata": {},
   "outputs": [
    {
     "data": {
      "text/plain": [
       "144"
      ]
     },
     "execution_count": 74,
     "metadata": {},
     "output_type": "execute_result"
    }
   ],
   "source": [
    "t1+t2"
   ]
  },
  {
   "cell_type": "code",
   "execution_count": 75,
   "id": "25c2ea95-bf2f-4b6b-b4dd-28140d5735fc",
   "metadata": {},
   "outputs": [
    {
     "data": {
      "text/plain": [
       "72.0"
      ]
     },
     "execution_count": 75,
     "metadata": {},
     "output_type": "execute_result"
    }
   ],
   "source": [
    "144/2"
   ]
  },
  {
   "cell_type": "code",
   "execution_count": 76,
   "id": "19fa2ffa-310a-4bcf-b60f-063d56f2055a",
   "metadata": {},
   "outputs": [],
   "source": [
    "#\"tarih notu\""
   ]
  },
  {
   "cell_type": "code",
   "execution_count": 80,
   "id": "3472439d-d17f-4b10-bee9-9ebce31907d7",
   "metadata": {},
   "outputs": [],
   "source": [
    "f=61\n",
    "\n",
    "f2=50"
   ]
  },
  {
   "cell_type": "code",
   "execution_count": 81,
   "id": "5468cc8b-f143-4e20-bea1-b98d43ff5ced",
   "metadata": {},
   "outputs": [
    {
     "data": {
      "text/plain": [
       "131"
      ]
     },
     "execution_count": 81,
     "metadata": {},
     "output_type": "execute_result"
    }
   ],
   "source": [
    "f+f1"
   ]
  },
  {
   "cell_type": "code",
   "execution_count": 82,
   "id": "6b1f1232-59b3-434b-95c6-59865880af2b",
   "metadata": {},
   "outputs": [
    {
     "data": {
      "text/plain": [
       "65.5"
      ]
     },
     "execution_count": 82,
     "metadata": {},
     "output_type": "execute_result"
    }
   ],
   "source": [
    "131/2"
   ]
  },
  {
   "cell_type": "code",
   "execution_count": 83,
   "id": "75a7e73d-865a-4f1a-ba1e-804416744326",
   "metadata": {},
   "outputs": [],
   "source": [
    "#\"fizik puanı\""
   ]
  }
 ],
 "metadata": {
  "kernelspec": {
   "display_name": "Python 3 (ipykernel)",
   "language": "python",
   "name": "python3"
  },
  "language_info": {
   "codemirror_mode": {
    "name": "ipython",
    "version": 3
   },
   "file_extension": ".py",
   "mimetype": "text/x-python",
   "name": "python",
   "nbconvert_exporter": "python",
   "pygments_lexer": "ipython3",
   "version": "3.9.13"
  }
 },
 "nbformat": 4,
 "nbformat_minor": 5
}
